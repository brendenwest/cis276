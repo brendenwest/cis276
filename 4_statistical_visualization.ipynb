{
  "nbformat": 4,
  "nbformat_minor": 0,
  "metadata": {
    "colab": {
      "name": "4_statistical_visualization.ipynb",
      "provenance": [],
      "toc_visible": true,
      "include_colab_link": true
    },
    "kernelspec": {
      "name": "python3",
      "display_name": "Python 3"
    }
  },
  "cells": [
    {
      "cell_type": "markdown",
      "metadata": {
        "id": "view-in-github",
        "colab_type": "text"
      },
      "source": [
        "<a href=\"https://colab.research.google.com/github/brendenwest/cis276/blob/main/4_statistical_visualization.ipynb\" target=\"_parent\"><img src=\"https://colab.research.google.com/assets/colab-badge.svg\" alt=\"Open In Colab\"/></a>"
      ]
    },
    {
      "cell_type": "markdown",
      "metadata": {
        "id": "XsM1oQJQiZG6"
      },
      "source": [
        "# Data Visualization\n",
        "\n",
        "### Reading\n",
        "\n",
        "- Murach's, Chapter 4\n",
        "- https://seaborn.pydata.org/tutorial/introduction.html\n",
        "\n",
        "### Learning Outcomes\n",
        "\n",
        "- making plots with seaborn\n",
        "\n"
      ]
    },
    {
      "cell_type": "markdown",
      "metadata": {
        "id": "aXsniVweMibj"
      },
      "source": [
        "### Plotting with seaborn\n",
        "\n",
        "Seaborn is a library for making statistical graphics in Python. It builds on top of matplotlib and integrates closely with pandas data structures.\n",
        "\n",
        "Seaborn not only makes it easier than pandas to prepare a wider variety of plots, but supports enhancements for presentation-quality plots.\n",
        "\n"
      ]
    },
    {
      "cell_type": "code",
      "source": [
        "# Import seaborn\n",
        "import seaborn as sns\n",
        "\n",
        "# Apply the default theme\n",
        "sns.set_theme()"
      ],
      "metadata": {
        "id": "PxNgInOmjb3Y"
      },
      "execution_count": 1,
      "outputs": []
    }
  ]
}