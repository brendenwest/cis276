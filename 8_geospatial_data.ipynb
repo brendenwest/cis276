{
  "nbformat": 4,
  "nbformat_minor": 0,
  "metadata": {
    "colab": {
      "provenance": [],
      "authorship_tag": "ABX9TyNzO1AoouSbLCkdc0P2EuZX",
      "include_colab_link": true
    },
    "kernelspec": {
      "name": "python3",
      "display_name": "Python 3"
    },
    "language_info": {
      "name": "python"
    }
  },
  "cells": [
    {
      "cell_type": "markdown",
      "metadata": {
        "id": "view-in-github",
        "colab_type": "text"
      },
      "source": [
        "<a href=\"https://colab.research.google.com/github/brendenwest/cis276/blob/main/8_geospatial_data.ipynb\" target=\"_parent\"><img src=\"https://colab.research.google.com/assets/colab-badge.svg\" alt=\"Open In Colab\"/></a>"
      ]
    },
    {
      "cell_type": "markdown",
      "source": [
        "# Geospatial Data Analysis\n",
        "\n",
        "### Reading\n",
        "- https://www.safegraph.com/guides/geospatial-data-analytics\n",
        "- https://gramener.medium.com/what-is-geospatial-analytics-9232b0a69b24\n",
        "\n",
        "### Watch\n",
        "- https://www.youtube.com/watch?v=KoLAlcBv290\n",
        "\n",
        "### Learning Outcomes\n",
        "- What are geospatial data\n",
        "- Methods for for analyzing geospatial data\n"
      ],
      "metadata": {
        "id": "Uw5KRX7dUGcE"
      }
    },
    {
      "cell_type": "markdown",
      "source": [
        "## What is Geospatial Data\n",
        "\n",
        "Data with location information (e.g. address, census tract, electoral district, etc.) associated to each record.\n",
        "\n",
        "Can include 3-dimensional measurements (e.g. altitude, ocean depth).\n",
        "\n",
        "Records represent\n",
        "- `raster` data represents real-world objects with cells on a `grid`\n",
        "- `vector` data represents real-world objects with points, lines, and polygons (geometric shapes)\n",
        "\n",
        "Data often stored in and analyzd with Geographic Information Systems (`GIS`)"
      ],
      "metadata": {
        "id": "mds2qIuJVJLd"
      }
    }
  ]
}