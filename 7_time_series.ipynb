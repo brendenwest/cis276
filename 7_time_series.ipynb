{
  "nbformat": 4,
  "nbformat_minor": 0,
  "metadata": {
    "colab": {
      "provenance": [],
      "toc_visible": true,
      "include_colab_link": true
    },
    "kernelspec": {
      "name": "python3",
      "display_name": "Python 3"
    },
    "language_info": {
      "name": "python"
    }
  },
  "cells": [
    {
      "cell_type": "markdown",
      "metadata": {
        "id": "view-in-github",
        "colab_type": "text"
      },
      "source": [
        "<a href=\"https://colab.research.google.com/github/brendenwest/cis276/blob/main/7_time_series.ipynb\" target=\"_parent\"><img src=\"https://colab.research.google.com/assets/colab-badge.svg\" alt=\"Open In Colab\"/></a>"
      ]
    },
    {
      "cell_type": "markdown",
      "source": [
        "\n",
        "# Time Series Analysis\n",
        "\n",
        "### Reading\n",
        "- Murach's, Chapter 9\n",
        "- https://wesmckinney.com/book/time-series.html\n",
        "\n",
        "### Learning Outcomes\n",
        "\n",
        "- Date & time conversion\n",
        "- Basic Time Series data\n",
        "- Handling date ranges & time periods\n",
        "- Rolling time windows\n",
        "\n",
        "\n"
      ],
      "metadata": {
        "id": "scvZIzNZaNHF"
      }
    },
    {
      "cell_type": "markdown",
      "source": [
        "### What is Time Series data\n",
        "\n",
        "Time series data is an important form of structured data, and can be any data recorded repeatedly at many points in time.\n",
        "\n",
        "Time series can have `fixed frequency` - data points occurring at regular intervals (e.g. hourly, daily, etc).\n",
        "\n",
        "Time series can also be `irregular` without a fixed unit of time or offset between units.\n",
        "\n",
        "Data points typically have a `timestamp` specifying an instant in time. Timestamp can be a `date`, a `time`, or a combination of both.\n"
      ],
      "metadata": {
        "id": "RXSutn6jmMrm"
      }
    },
    {
      "cell_type": "markdown",
      "source": [
        "### Date & Time types\n",
        "\n",
        "Python has built-in data types & modules for date and time data, such as `datetime`, `time`, & `calendar`.\n",
        "\n",
        "`datetime` stores both the date and time down to the microsecond. It has numerous methods to create a datetime object from inputs and to output parts of a datetime object."
      ],
      "metadata": {
        "id": "vBpl2-Lnk1EB"
      }
    },
    {
      "cell_type": "code",
      "source": [
        "from datetime import datetime\n",
        "now = datetime.now()\n",
        "print(\"now - \", now)  # show complete datetime object\n",
        "print(\"date parts - \", now.year, now.month, now.day)\n",
        "then = datetime(2023, 4, 12, 13, 9, 16, 484533)\n",
        "delta = now - then\n",
        "delta"
      ],
      "metadata": {
        "id": "HjA7Mvh8o1m_",
        "outputId": "18b166b2-fb4f-4655-c5a2-b798073d7ba2",
        "colab": {
          "base_uri": "https://localhost:8080/"
        }
      },
      "execution_count": 11,
      "outputs": [
        {
          "output_type": "stream",
          "name": "stdout",
          "text": [
            "now -  2024-02-12 00:16:28.778890\n",
            "date parts -  2024 2 12\n"
          ]
        },
        {
          "output_type": "execute_result",
          "data": {
            "text/plain": [
              "datetime.timedelta(days=305, seconds=40032, microseconds=294357)"
            ]
          },
          "metadata": {},
          "execution_count": 11
        }
      ]
    },
    {
      "cell_type": "code",
      "source": [
        "delta = datetime(2011, 1, 7) - datetime(2008, 6, 24, 8, 15)\n",
        "delta"
      ],
      "metadata": {
        "id": "pgv_8vWSp-pt",
        "outputId": "84988325-ba30-4f78-9c23-3f9d2d71c0cb",
        "colab": {
          "base_uri": "https://localhost:8080/"
        }
      },
      "execution_count": 6,
      "outputs": [
        {
          "output_type": "execute_result",
          "data": {
            "text/plain": [
              "datetime.timedelta(days=926, seconds=56700)"
            ]
          },
          "metadata": {},
          "execution_count": 6
        }
      ]
    },
    {
      "cell_type": "markdown",
      "source": [
        "You can format datetime objects as strings. See docs for a full listing of format codes.\n",
        "\n",
        "Python `datetime` objects also have locale-specific formatting options for countries & languages other than US English."
      ],
      "metadata": {
        "id": "D-WqSI7grLnr"
      }
    },
    {
      "cell_type": "code",
      "source": [
        "timestamp = datetime(2021, 1, 3)\n",
        "str(timestamp)  # convert datetime to string\n",
        "timestamp.strftime(\"%Y-%m-%d\")  # timestamp to formatted string"
      ],
      "metadata": {
        "id": "sFmstlssrW8s",
        "outputId": "e2c07d33-8a8f-4a78-e30c-090c51dec840",
        "colab": {
          "base_uri": "https://localhost:8080/",
          "height": 35
        }
      },
      "execution_count": 13,
      "outputs": [
        {
          "output_type": "execute_result",
          "data": {
            "text/plain": [
              "'2021-01-03'"
            ],
            "application/vnd.google.colaboratory.intrinsic+json": {
              "type": "string"
            }
          },
          "metadata": {},
          "execution_count": 13
        }
      ]
    },
    {
      "cell_type": "markdown",
      "source": [
        "You can use many of the same format codes to convert strings to dates."
      ],
      "metadata": {
        "id": "YyFeZxWlsFoS"
      }
    },
    {
      "cell_type": "code",
      "source": [
        "datetime.strptime(\"2021-01-03\", \"%Y-%m-%d\")\n",
        "datestrs = [\"7/6/2021\", \"8/6/2021\"]\n",
        "[datetime.strptime(x, \"%m/%d/%Y\") for x in datestrs]"
      ],
      "metadata": {
        "id": "SaTZOdgEsN4z",
        "outputId": "7275e0e3-584c-4149-a400-7469c094355e",
        "colab": {
          "base_uri": "https://localhost:8080/"
        }
      },
      "execution_count": 16,
      "outputs": [
        {
          "output_type": "execute_result",
          "data": {
            "text/plain": [
              "[datetime.datetime(2021, 7, 6, 0, 0), datetime.datetime(2021, 8, 6, 0, 0)]"
            ]
          },
          "metadata": {},
          "execution_count": 16
        }
      ]
    },
    {
      "cell_type": "markdown",
      "source": [
        "### Pandas Time Series Basics"
      ],
      "metadata": {
        "id": "RhcRmYDKk8br"
      }
    },
    {
      "cell_type": "markdown",
      "source": [
        "The `pandas.to_datetime` method parses many different kinds of date representations, including missing data, into a `DatetimeIndex` Series indexed by datetime objects."
      ],
      "metadata": {
        "id": "1KhfIsMHtEJ5"
      }
    },
    {
      "cell_type": "code",
      "source": [
        "import pandas as pd\n",
        "datestrs = [\"2021/07/06 12:00:00\", \"2021-08-06 00:00:00\", None]\n",
        "pd.to_datetime(datestrs)"
      ],
      "metadata": {
        "id": "2n5oMpYAsvtk",
        "outputId": "c11a87f3-390b-48e8-eb8e-605b7cabd78e",
        "colab": {
          "base_uri": "https://localhost:8080/"
        }
      },
      "execution_count": 38,
      "outputs": [
        {
          "output_type": "execute_result",
          "data": {
            "text/plain": [
              "DatetimeIndex(['2021-07-06 12:00:00', '2021-08-06 00:00:00', 'NaT'], dtype='datetime64[ns]', freq=None)"
            ]
          },
          "metadata": {},
          "execution_count": 38
        }
      ]
    },
    {
      "cell_type": "markdown",
      "source": [
        "A basic pandas time series object is a Series indexed by timestamps. Pandas time series can be sliced like any other Series."
      ],
      "metadata": {
        "id": "yZ8i52wDyCdG"
      }
    },
    {
      "cell_type": "code",
      "source": [
        "import numpy as np\n",
        "ts = pd.Series(np.random.standard_normal(3), index=pd.to_datetime(datestrs))\n",
        "ts"
      ],
      "metadata": {
        "id": "snxQg_IfySFE",
        "outputId": "c43da879-c5df-4309-d87b-5647ddccba70",
        "colab": {
          "base_uri": "https://localhost:8080/"
        }
      },
      "execution_count": 39,
      "outputs": [
        {
          "output_type": "execute_result",
          "data": {
            "text/plain": [
              "2021-07-06 12:00:00   -0.210091\n",
              "2021-08-06 00:00:00    0.544252\n",
              "NaT                   -0.608974\n",
              "dtype: float64"
            ]
          },
          "metadata": {},
          "execution_count": 39
        }
      ]
    },
    {
      "cell_type": "markdown",
      "source": [
        "Scalar values from a DatetimeIndex are pandas `Timestamp` objects and can generally be substituted for a `datetime` object. However, Timestamp objects can store data at nanosecond precision and also store frequency information."
      ],
      "metadata": {
        "id": "1EmwpAVCxU3n"
      }
    },
    {
      "cell_type": "code",
      "source": [
        "ts.index[0]"
      ],
      "metadata": {
        "id": "Rm3AuldzxpFH",
        "outputId": "1083251f-d27c-4ae8-ca9b-d218c37c6524",
        "colab": {
          "base_uri": "https://localhost:8080/"
        }
      },
      "execution_count": 40,
      "outputs": [
        {
          "output_type": "execute_result",
          "data": {
            "text/plain": [
              "Timestamp('2021-07-06 12:00:00')"
            ]
          },
          "metadata": {},
          "execution_count": 40
        }
      ]
    },
    {
      "cell_type": "markdown",
      "source": [
        "Time series can also use a date string for indexing and also can slice with timestamps not contained in a time series to perform a range query."
      ],
      "metadata": {
        "id": "zcQ_HDYszdQS"
      }
    },
    {
      "cell_type": "code",
      "source": [
        "ts['2021-07-06']\n",
        "ts[\"2021-01-01\":\"2021-09-01\"]"
      ],
      "metadata": {
        "id": "HJsKdrbJznbn",
        "outputId": "205e1f86-9b3f-455d-f5c7-abe97678be41",
        "colab": {
          "base_uri": "https://localhost:8080/"
        }
      },
      "execution_count": 41,
      "outputs": [
        {
          "output_type": "stream",
          "name": "stderr",
          "text": [
            "<ipython-input-41-620f9cb62bd0>:2: FutureWarning: Value based partial slicing on non-monotonic DatetimeIndexes with non-existing keys is deprecated and will raise a KeyError in a future Version.\n",
            "  ts[\"2021-01-01\":\"2021-09-01\"]\n"
          ]
        },
        {
          "output_type": "execute_result",
          "data": {
            "text/plain": [
              "2021-07-06 12:00:00   -0.210091\n",
              "2021-08-06 00:00:00    0.544252\n",
              "dtype: float64"
            ]
          },
          "metadata": {},
          "execution_count": 41
        }
      ]
    },
    {
      "cell_type": "markdown",
      "source": [
        "### Date Ranges & Frequencies"
      ],
      "metadata": {
        "id": "HHIRGJmUlO9m"
      }
    },
    {
      "cell_type": "markdown",
      "source": [
        "### Time Periods"
      ],
      "metadata": {
        "id": "6HJZ4nwzlYqc"
      }
    },
    {
      "cell_type": "markdown",
      "source": [
        "### Moving Windows"
      ],
      "metadata": {
        "id": "GXCjRMyIllVp"
      }
    }
  ]
}