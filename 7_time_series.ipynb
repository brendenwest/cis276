{
  "nbformat": 4,
  "nbformat_minor": 0,
  "metadata": {
    "colab": {
      "provenance": [],
      "authorship_tag": "ABX9TyPgrqIYBfpkMePq/Zwouny+",
      "include_colab_link": true
    },
    "kernelspec": {
      "name": "python3",
      "display_name": "Python 3"
    },
    "language_info": {
      "name": "python"
    }
  },
  "cells": [
    {
      "cell_type": "markdown",
      "metadata": {
        "id": "view-in-github",
        "colab_type": "text"
      },
      "source": [
        "<a href=\"https://colab.research.google.com/github/brendenwest/cis276/blob/main/7_time_series.ipynb\" target=\"_parent\"><img src=\"https://colab.research.google.com/assets/colab-badge.svg\" alt=\"Open In Colab\"/></a>"
      ]
    },
    {
      "cell_type": "markdown",
      "source": [
        "\n",
        "# Time Series Analysis\n",
        "\n",
        "### Reading\n",
        "- Murach's, Chapter 9\n",
        "- https://wesmckinney.com/book/time-series.html\n",
        "\n",
        "### Learning Outcomes\n",
        "\n",
        "- Date & time conversion\n",
        "- Indexing, selection, & subsetting\n",
        "- Date ranges\n",
        "- Time periods\n",
        "- Rolling time windows\n",
        "\n",
        "\n"
      ],
      "metadata": {
        "id": "scvZIzNZaNHF"
      }
    }
  ]
}