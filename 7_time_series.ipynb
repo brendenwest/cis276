{
  "nbformat": 4,
  "nbformat_minor": 0,
  "metadata": {
    "colab": {
      "provenance": [],
      "include_colab_link": true
    },
    "kernelspec": {
      "name": "python3",
      "display_name": "Python 3"
    },
    "language_info": {
      "name": "python"
    }
  },
  "cells": [
    {
      "cell_type": "markdown",
      "metadata": {
        "id": "view-in-github",
        "colab_type": "text"
      },
      "source": [
        "<a href=\"https://colab.research.google.com/github/brendenwest/cis276/blob/main/7_time_series.ipynb\" target=\"_parent\"><img src=\"https://colab.research.google.com/assets/colab-badge.svg\" alt=\"Open In Colab\"/></a>"
      ]
    },
    {
      "cell_type": "markdown",
      "source": [
        "\n",
        "# Time Series Analysis\n",
        "\n",
        "### Reading\n",
        "- Murach's, Chapter 9\n",
        "- https://wesmckinney.com/book/time-series.html\n",
        "\n",
        "### Learning Outcomes\n",
        "\n",
        "- Date & time conversion\n",
        "- Basic Time Series data\n",
        "- Handling date ranges & time periods\n",
        "- Rolling time windows\n",
        "\n",
        "\n"
      ],
      "metadata": {
        "id": "scvZIzNZaNHF"
      }
    },
    {
      "cell_type": "markdown",
      "source": [
        "### What is Time Series data\n",
        "\n",
        "Time series data is an important form of structured data, and can be any data recorded repeatedly at many points in time.\n",
        "\n",
        "Time series can have `fixed frequency` - data points occurring at regular intervals (e.g. hourly, daily, etc).\n",
        "\n",
        "Time series can also be `irregular` without a fixed unit of time or offset between units.\n",
        "\n",
        "Data points typically have a `timestamp` specifying an instant in time. Timestamp can be a `date`, a `time`, or a combination of both.\n"
      ],
      "metadata": {
        "id": "RXSutn6jmMrm"
      }
    },
    {
      "cell_type": "markdown",
      "source": [
        "### Date & Time types\n",
        "\n",
        "Python has built-in data types & modules for date and time data, such as `datetime`, `time`, & `calendar`.\n",
        "\n"
      ],
      "metadata": {
        "id": "vBpl2-Lnk1EB"
      }
    },
    {
      "cell_type": "code",
      "source": [
        "from datetime import datetime\n",
        "now = datetime.now()\n",
        "now\n",
        "datetime.datetime(2023, 4, 12, 13, 9, 16, 484533)\n",
        "now.year, now.month, now.day\n"
      ],
      "metadata": {
        "id": "HjA7Mvh8o1m_"
      },
      "execution_count": null,
      "outputs": []
    },
    {
      "cell_type": "markdown",
      "source": [
        "### Pandas Time Series Basics"
      ],
      "metadata": {
        "id": "RhcRmYDKk8br"
      }
    },
    {
      "cell_type": "markdown",
      "source": [
        "### Date Ranges & Frequencies"
      ],
      "metadata": {
        "id": "HHIRGJmUlO9m"
      }
    },
    {
      "cell_type": "markdown",
      "source": [
        "### Time Periods"
      ],
      "metadata": {
        "id": "6HJZ4nwzlYqc"
      }
    },
    {
      "cell_type": "markdown",
      "source": [
        "### Moving Windows"
      ],
      "metadata": {
        "id": "GXCjRMyIllVp"
      }
    }
  ]
}