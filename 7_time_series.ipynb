{
  "nbformat": 4,
  "nbformat_minor": 0,
  "metadata": {
    "colab": {
      "provenance": [],
      "toc_visible": true,
      "include_colab_link": true
    },
    "kernelspec": {
      "name": "python3",
      "display_name": "Python 3"
    },
    "language_info": {
      "name": "python"
    }
  },
  "cells": [
    {
      "cell_type": "markdown",
      "metadata": {
        "id": "view-in-github",
        "colab_type": "text"
      },
      "source": [
        "<a href=\"https://colab.research.google.com/github/brendenwest/cis276/blob/main/7_time_series.ipynb\" target=\"_parent\"><img src=\"https://colab.research.google.com/assets/colab-badge.svg\" alt=\"Open In Colab\"/></a>"
      ]
    },
    {
      "cell_type": "markdown",
      "source": [
        "\n",
        "# Time Series Analysis\n",
        "\n",
        "### Reading\n",
        "- Murach's, Chapter 9\n",
        "- https://wesmckinney.com/book/time-series.html\n",
        "\n",
        "### Learning Outcomes\n",
        "\n",
        "- Date & time conversion\n",
        "- Basic Time Series data\n",
        "- Date ranges & time periods\n",
        "- Window Functions"
      ],
      "metadata": {
        "id": "scvZIzNZaNHF"
      }
    },
    {
      "cell_type": "markdown",
      "source": [
        "### What is Time Series data\n",
        "\n",
        "Time series data is an important form of structured data, and can be any data recorded repeatedly at many points in time.\n",
        "\n",
        "Time series can have `fixed frequency` - data points occurring at regular intervals (e.g. hourly, daily, etc).\n",
        "\n",
        "Time series can also be `irregular` without a fixed unit of time or offset between units.\n",
        "\n",
        "Data points typically have a `timestamp` specifying an instant in time. Timestamp can be a `date`, a `time`, or a combination of both.\n"
      ],
      "metadata": {
        "id": "RXSutn6jmMrm"
      }
    },
    {
      "cell_type": "markdown",
      "source": [
        "### Date & Time types\n",
        "\n",
        "Python has built-in data types & modules for date and time data, such as `datetime`, `time`, & `calendar`.\n",
        "\n",
        "`datetime` stores both the date and time down to the microsecond. It has numerous methods to create a datetime object from inputs and to output parts of a datetime object."
      ],
      "metadata": {
        "id": "vBpl2-Lnk1EB"
      }
    },
    {
      "cell_type": "code",
      "source": [
        "from datetime import datetime\n",
        "now = datetime.now()\n",
        "print(\"now - \", now)  # show complete datetime object\n",
        "print(\"date parts - \", now.year, now.month, now.day)\n",
        "then = datetime(2023, 4, 12, 13, 9, 16, 484533)\n",
        "delta = now - then\n",
        "delta"
      ],
      "metadata": {
        "id": "HjA7Mvh8o1m_",
        "colab": {
          "base_uri": "https://localhost:8080/"
        },
        "outputId": "466949f5-0d38-4bdc-be71-d26e626dbfbb"
      },
      "execution_count": 57,
      "outputs": [
        {
          "output_type": "stream",
          "name": "stdout",
          "text": [
            "now -  2024-02-12 01:33:40.462265\n",
            "date parts -  2024 2 12\n"
          ]
        },
        {
          "output_type": "execute_result",
          "data": {
            "text/plain": [
              "datetime.timedelta(days=305, seconds=44663, microseconds=977732)"
            ]
          },
          "metadata": {},
          "execution_count": 57
        }
      ]
    },
    {
      "cell_type": "code",
      "source": [
        "delta = datetime(2011, 1, 7) - datetime(2008, 6, 24, 8, 15)\n",
        "delta"
      ],
      "metadata": {
        "colab": {
          "base_uri": "https://localhost:8080/"
        },
        "id": "pgv_8vWSp-pt",
        "outputId": "84988325-ba30-4f78-9c23-3f9d2d71c0cb"
      },
      "execution_count": 6,
      "outputs": [
        {
          "output_type": "execute_result",
          "data": {
            "text/plain": [
              "datetime.timedelta(days=926, seconds=56700)"
            ]
          },
          "metadata": {},
          "execution_count": 6
        }
      ]
    },
    {
      "cell_type": "markdown",
      "source": [
        "You can format datetime objects as strings. See docs for a full listing of format codes.\n",
        "\n",
        "Python `datetime` objects also have locale-specific formatting options for countries & languages other than US English."
      ],
      "metadata": {
        "id": "D-WqSI7grLnr"
      }
    },
    {
      "cell_type": "code",
      "source": [
        "timestamp = datetime(2021, 1, 3)\n",
        "str(timestamp)  # convert datetime to string\n",
        "timestamp.strftime(\"%Y-%m-%d\")  # timestamp to formatted string"
      ],
      "metadata": {
        "colab": {
          "base_uri": "https://localhost:8080/",
          "height": 35
        },
        "id": "sFmstlssrW8s",
        "outputId": "e2c07d33-8a8f-4a78-e30c-090c51dec840"
      },
      "execution_count": 13,
      "outputs": [
        {
          "output_type": "execute_result",
          "data": {
            "text/plain": [
              "'2021-01-03'"
            ],
            "application/vnd.google.colaboratory.intrinsic+json": {
              "type": "string"
            }
          },
          "metadata": {},
          "execution_count": 13
        }
      ]
    },
    {
      "cell_type": "markdown",
      "source": [
        "You can use many of the same format codes to convert strings to dates."
      ],
      "metadata": {
        "id": "YyFeZxWlsFoS"
      }
    },
    {
      "cell_type": "code",
      "source": [
        "datetime.strptime(\"2021-01-03\", \"%Y-%m-%d\")\n",
        "datestrs = [\"7/6/2021\", \"8/6/2021\"]\n",
        "[datetime.strptime(x, \"%m/%d/%Y\") for x in datestrs]"
      ],
      "metadata": {
        "colab": {
          "base_uri": "https://localhost:8080/"
        },
        "id": "SaTZOdgEsN4z",
        "outputId": "7275e0e3-584c-4149-a400-7469c094355e"
      },
      "execution_count": 16,
      "outputs": [
        {
          "output_type": "execute_result",
          "data": {
            "text/plain": [
              "[datetime.datetime(2021, 7, 6, 0, 0), datetime.datetime(2021, 8, 6, 0, 0)]"
            ]
          },
          "metadata": {},
          "execution_count": 16
        }
      ]
    },
    {
      "cell_type": "markdown",
      "source": [
        "### Pandas Time Series Basics"
      ],
      "metadata": {
        "id": "RhcRmYDKk8br"
      }
    },
    {
      "cell_type": "markdown",
      "source": [
        "The `pandas.to_datetime` method parses many different kinds of date representations, including missing data, into a `DatetimeIndex` Series indexed by datetime objects."
      ],
      "metadata": {
        "id": "1KhfIsMHtEJ5"
      }
    },
    {
      "cell_type": "code",
      "source": [
        "import pandas as pd\n",
        "datestrs = [\"2021/07/06 12:00:00\", \"2021-08-06 00:00:00\", None]\n",
        "pd.to_datetime(datestrs)"
      ],
      "metadata": {
        "colab": {
          "base_uri": "https://localhost:8080/"
        },
        "id": "2n5oMpYAsvtk",
        "outputId": "c11a87f3-390b-48e8-eb8e-605b7cabd78e"
      },
      "execution_count": 38,
      "outputs": [
        {
          "output_type": "execute_result",
          "data": {
            "text/plain": [
              "DatetimeIndex(['2021-07-06 12:00:00', '2021-08-06 00:00:00', 'NaT'], dtype='datetime64[ns]', freq=None)"
            ]
          },
          "metadata": {},
          "execution_count": 38
        }
      ]
    },
    {
      "cell_type": "markdown",
      "source": [
        "A basic pandas time series object is a Series indexed by timestamps. Pandas time series can be sliced like any other Series."
      ],
      "metadata": {
        "id": "yZ8i52wDyCdG"
      }
    },
    {
      "cell_type": "code",
      "source": [
        "import numpy as np\n",
        "ts = pd.Series(np.random.standard_normal(3), index=pd.to_datetime(datestrs))\n",
        "ts"
      ],
      "metadata": {
        "colab": {
          "base_uri": "https://localhost:8080/"
        },
        "id": "snxQg_IfySFE",
        "outputId": "c43da879-c5df-4309-d87b-5647ddccba70"
      },
      "execution_count": 39,
      "outputs": [
        {
          "output_type": "execute_result",
          "data": {
            "text/plain": [
              "2021-07-06 12:00:00   -0.210091\n",
              "2021-08-06 00:00:00    0.544252\n",
              "NaT                   -0.608974\n",
              "dtype: float64"
            ]
          },
          "metadata": {},
          "execution_count": 39
        }
      ]
    },
    {
      "cell_type": "markdown",
      "source": [
        "Scalar values from a DatetimeIndex are pandas `Timestamp` objects and can generally be substituted for a `datetime` object. However, Timestamp objects can store data at nanosecond precision and also store frequency information."
      ],
      "metadata": {
        "id": "1EmwpAVCxU3n"
      }
    },
    {
      "cell_type": "code",
      "source": [
        "ts.index[0]"
      ],
      "metadata": {
        "colab": {
          "base_uri": "https://localhost:8080/"
        },
        "id": "Rm3AuldzxpFH",
        "outputId": "1083251f-d27c-4ae8-ca9b-d218c37c6524"
      },
      "execution_count": 40,
      "outputs": [
        {
          "output_type": "execute_result",
          "data": {
            "text/plain": [
              "Timestamp('2021-07-06 12:00:00')"
            ]
          },
          "metadata": {},
          "execution_count": 40
        }
      ]
    },
    {
      "cell_type": "markdown",
      "source": [
        "Time series can also use a date string for indexing and also can slice with timestamps not contained in a time series to perform a range query."
      ],
      "metadata": {
        "id": "zcQ_HDYszdQS"
      }
    },
    {
      "cell_type": "code",
      "source": [
        "ts['2021-07-06']\n",
        "ts[\"2021-01-01\":\"2021-09-01\"]"
      ],
      "metadata": {
        "colab": {
          "base_uri": "https://localhost:8080/"
        },
        "id": "HJsKdrbJznbn",
        "outputId": "205e1f86-9b3f-455d-f5c7-abe97678be41"
      },
      "execution_count": 41,
      "outputs": [
        {
          "output_type": "stream",
          "name": "stderr",
          "text": [
            "<ipython-input-41-620f9cb62bd0>:2: FutureWarning: Value based partial slicing on non-monotonic DatetimeIndexes with non-existing keys is deprecated and will raise a KeyError in a future Version.\n",
            "  ts[\"2021-01-01\":\"2021-09-01\"]\n"
          ]
        },
        {
          "output_type": "execute_result",
          "data": {
            "text/plain": [
              "2021-07-06 12:00:00   -0.210091\n",
              "2021-08-06 00:00:00    0.544252\n",
              "dtype: float64"
            ]
          },
          "metadata": {},
          "execution_count": 41
        }
      ]
    },
    {
      "cell_type": "markdown",
      "source": [
        "### Date Ranges & Frequencies\n",
        "\n",
        "Time series analysis often requires working with fixed-frequency data. pandas supports standard time series frequencies and has tools for resampling (conversion), inferring frequencies, and generating fixed-frequency date ranges."
      ],
      "metadata": {
        "id": "HHIRGJmUlO9m"
      }
    },
    {
      "cell_type": "code",
      "source": [
        "# convert exising time series to fixed daily frequency\n",
        "resampler = ts.resample(\"D\")\n",
        "len(resampler)"
      ],
      "metadata": {
        "id": "arNqu_Iv3BxN",
        "outputId": "a1d62ec0-cec9-4790-806a-f85c0a93a076",
        "colab": {
          "base_uri": "https://localhost:8080/"
        }
      },
      "execution_count": 45,
      "outputs": [
        {
          "output_type": "execute_result",
          "data": {
            "text/plain": [
              "32"
            ]
          },
          "metadata": {},
          "execution_count": 45
        }
      ]
    },
    {
      "cell_type": "markdown",
      "source": [
        "`pandas.date_range` generates a DatetimeIndex with a specified length according to a particular frequency.\n",
        "\n",
        "Default frequency is daily, but pandas supports a wide set of frequencies including business-specific values. Frequencies that describe unevenly spaced intervals are referred to as `anchored` offsets."
      ],
      "metadata": {
        "id": "DOE2P8II3sPe"
      }
    },
    {
      "cell_type": "code",
      "source": [
        "pd.date_range(\"2021-04-01\", \"2021-06-01\")"
      ],
      "metadata": {
        "id": "AIPthew-4B5r",
        "outputId": "fdc237cb-dda7-40e8-ac86-23fee75af626",
        "colab": {
          "base_uri": "https://localhost:8080/"
        }
      },
      "execution_count": 50,
      "outputs": [
        {
          "output_type": "execute_result",
          "data": {
            "text/plain": [
              "DatetimeIndex(['2021-04-01', '2021-04-02', '2021-04-03', '2021-04-04',\n",
              "               '2021-04-05', '2021-04-06', '2021-04-07', '2021-04-08',\n",
              "               '2021-04-09', '2021-04-10', '2021-04-11', '2021-04-12',\n",
              "               '2021-04-13', '2021-04-14', '2021-04-15', '2021-04-16',\n",
              "               '2021-04-17', '2021-04-18', '2021-04-19', '2021-04-20',\n",
              "               '2021-04-21', '2021-04-22', '2021-04-23', '2021-04-24',\n",
              "               '2021-04-25', '2021-04-26', '2021-04-27', '2021-04-28',\n",
              "               '2021-04-29', '2021-04-30', '2021-05-01', '2021-05-02',\n",
              "               '2021-05-03', '2021-05-04', '2021-05-05', '2021-05-06',\n",
              "               '2021-05-07', '2021-05-08', '2021-05-09', '2021-05-10',\n",
              "               '2021-05-11', '2021-05-12', '2021-05-13', '2021-05-14',\n",
              "               '2021-05-15', '2021-05-16', '2021-05-17', '2021-05-18',\n",
              "               '2021-05-19', '2021-05-20', '2021-05-21', '2021-05-22',\n",
              "               '2021-05-23', '2021-05-24', '2021-05-25', '2021-05-26',\n",
              "               '2021-05-27', '2021-05-28', '2021-05-29', '2021-05-30',\n",
              "               '2021-05-31', '2021-06-01'],\n",
              "              dtype='datetime64[ns]', freq='D')"
            ]
          },
          "metadata": {},
          "execution_count": 50
        }
      ]
    },
    {
      "cell_type": "markdown",
      "source": [
        "\n",
        "If you pass only a start or end date, you must pass a number of periods to generate."
      ],
      "metadata": {
        "id": "Hs1mPnlb4Uyy"
      }
    },
    {
      "cell_type": "code",
      "source": [
        "pd.date_range(start=\"2012-04-01\", periods=20)"
      ],
      "metadata": {
        "id": "ta33dT3c4MND",
        "outputId": "5486e649-7e63-4f95-8eb4-2b7d17c74a85",
        "colab": {
          "base_uri": "https://localhost:8080/"
        }
      },
      "execution_count": 48,
      "outputs": [
        {
          "output_type": "execute_result",
          "data": {
            "text/plain": [
              "DatetimeIndex(['2012-04-01', '2012-04-02', '2012-04-03', '2012-04-04',\n",
              "               '2012-04-05', '2012-04-06', '2012-04-07', '2012-04-08',\n",
              "               '2012-04-09', '2012-04-10', '2012-04-11', '2012-04-12',\n",
              "               '2012-04-13', '2012-04-14', '2012-04-15', '2012-04-16',\n",
              "               '2012-04-17', '2012-04-18', '2012-04-19', '2012-04-20'],\n",
              "              dtype='datetime64[ns]', freq='D')"
            ]
          },
          "metadata": {},
          "execution_count": 48
        }
      ]
    },
    {
      "cell_type": "markdown",
      "source": [
        "Frequencies in pandas are composed of a `base` frequency and a `multiplier` expressed as a string alias - e.g. 'M' for monthly, \"2M\" for two months.\n",
        "\n",
        "Frequency strings can be combined."
      ],
      "metadata": {
        "id": "q-mckEYI5Cl1"
      }
    },
    {
      "cell_type": "code",
      "source": [
        "pd.date_range(\"2000-01-01\", periods=10, freq=\"1h30min\")"
      ],
      "metadata": {
        "id": "sLW9uGxp56UP",
        "outputId": "13ce10b6-c81e-407f-9532-ee3dcc1d49eb",
        "colab": {
          "base_uri": "https://localhost:8080/"
        }
      },
      "execution_count": 51,
      "outputs": [
        {
          "output_type": "execute_result",
          "data": {
            "text/plain": [
              "DatetimeIndex(['2000-01-01 00:00:00', '2000-01-01 01:30:00',\n",
              "               '2000-01-01 03:00:00', '2000-01-01 04:30:00',\n",
              "               '2000-01-01 06:00:00', '2000-01-01 07:30:00',\n",
              "               '2000-01-01 09:00:00', '2000-01-01 10:30:00',\n",
              "               '2000-01-01 12:00:00', '2000-01-01 13:30:00'],\n",
              "              dtype='datetime64[ns]', freq='90T')"
            ]
          },
          "metadata": {},
          "execution_count": 51
        }
      ]
    },
    {
      "cell_type": "markdown",
      "source": [
        "\n",
        "Each base frequency has a corresponding `date offset` object. For example, hourly frequency can be represented with the `Hour` class."
      ],
      "metadata": {
        "id": "4uraeHuz6MGk"
      }
    },
    {
      "cell_type": "code",
      "source": [
        "from pandas.tseries.offsets import Hour, Minute\n",
        "\n",
        "Hour(2) + Minute(30)"
      ],
      "metadata": {
        "id": "y8cWZnv26Qa4",
        "outputId": "52a8730d-6a5a-44c8-d225-7545e990770d",
        "colab": {
          "base_uri": "https://localhost:8080/"
        }
      },
      "execution_count": 56,
      "outputs": [
        {
          "output_type": "execute_result",
          "data": {
            "text/plain": [
              "<150 * Minutes>"
            ]
          },
          "metadata": {},
          "execution_count": 56
        }
      ]
    },
    {
      "cell_type": "markdown",
      "source": [
        "### Time Zone Handling\n",
        "\n",
        "Time zones handling can be the most challenging part of time series data. To help, data is often stored or translated into coordinated universal time or `UTC`.\n",
        "\n",
        "Time zones are expressed as offsets from UTC (e.g. Seattle = UTC-7 during daylight saving time (DST) or UTC-8 other times of year).\n",
        "\n",
        "Python version < 3.9 use the 3rd-party `pytz` library, which encapsulates a comprehensive datbase of worldwide timezones & historical changes. Python 3.9 & later versions have this capability built-in."
      ],
      "metadata": {
        "id": "VLZx0czA7xvP"
      }
    },
    {
      "cell_type": "code",
      "source": [
        "import pytz\n",
        "print(pytz.common_timezones[-5:])\n",
        "print()\n",
        "pytz.timezone(\"America/Los_Angeles\")"
      ],
      "metadata": {
        "id": "EzcLe4BL9enQ",
        "outputId": "8faf40cf-b13b-4e13-b17c-9803dbe7d89f",
        "colab": {
          "base_uri": "https://localhost:8080/"
        }
      },
      "execution_count": 62,
      "outputs": [
        {
          "output_type": "stream",
          "name": "stdout",
          "text": [
            "['US/Eastern', 'US/Hawaii', 'US/Mountain', 'US/Pacific', 'UTC']\n",
            "\n"
          ]
        },
        {
          "output_type": "execute_result",
          "data": {
            "text/plain": [
              "<DstTzInfo 'America/Los_Angeles' LMT-1 day, 16:07:00 STD>"
            ]
          },
          "metadata": {},
          "execution_count": 62
        }
      ]
    },
    {
      "cell_type": "markdown",
      "source": [
        "By default pandas time series are `time zone naive` (have no time zone), but they can be created with a time zone or converted to `localized`.\n",
        "\n",
        "Once a time series has been localized to a particular time zone, it can be converted to another time zone."
      ],
      "metadata": {
        "id": "uNAPiPJS-FhM"
      }
    },
    {
      "cell_type": "code",
      "source": [
        "pd.date_range(\"2012-03-09 09:30\", periods=10, tz=\"UTC\")\n",
        "\n",
        "ts = pd.date_range(\"2012-03-09 09:30\", periods=10)\n",
        "ts2 = ts.tz_localize(\"UTC\")\n",
        "print(ts2)\n",
        "ts2.tz_convert(\"US/Pacific\")"
      ],
      "metadata": {
        "id": "yP1U2Wl3-z7h",
        "outputId": "ab89fa15-8dea-499a-d0aa-0bb5fce0d212",
        "colab": {
          "base_uri": "https://localhost:8080/"
        }
      },
      "execution_count": 70,
      "outputs": [
        {
          "output_type": "stream",
          "name": "stdout",
          "text": [
            "DatetimeIndex(['2012-03-09 09:30:00+00:00', '2012-03-10 09:30:00+00:00',\n",
            "               '2012-03-11 09:30:00+00:00', '2012-03-12 09:30:00+00:00',\n",
            "               '2012-03-13 09:30:00+00:00', '2012-03-14 09:30:00+00:00',\n",
            "               '2012-03-15 09:30:00+00:00', '2012-03-16 09:30:00+00:00',\n",
            "               '2012-03-17 09:30:00+00:00', '2012-03-18 09:30:00+00:00'],\n",
            "              dtype='datetime64[ns, UTC]', freq='D')\n"
          ]
        },
        {
          "output_type": "execute_result",
          "data": {
            "text/plain": [
              "DatetimeIndex(['2012-03-09 01:30:00-08:00', '2012-03-10 01:30:00-08:00',\n",
              "               '2012-03-11 01:30:00-08:00', '2012-03-12 02:30:00-07:00',\n",
              "               '2012-03-13 02:30:00-07:00', '2012-03-14 02:30:00-07:00',\n",
              "               '2012-03-15 02:30:00-07:00', '2012-03-16 02:30:00-07:00',\n",
              "               '2012-03-17 02:30:00-07:00', '2012-03-18 02:30:00-07:00'],\n",
              "              dtype='datetime64[ns, US/Pacific]', freq='D')"
            ]
          },
          "metadata": {},
          "execution_count": 70
        }
      ]
    },
    {
      "cell_type": "markdown",
      "source": [
        "Individual `Timestamp` objects can also be localized from naive to time zone-aware and converted from one time zone to another."
      ],
      "metadata": {
        "id": "0snS2AXvDWA6"
      }
    },
    {
      "cell_type": "code",
      "source": [
        "stamp = pd.Timestamp(\"2011-03-12 04:00\")\n",
        "stamp_utc = stamp.tz_localize(\"utc\")\n",
        "stamp_utc.tz_convert(\"America/New_York\")"
      ],
      "metadata": {
        "id": "hd1-p3KkDOOq",
        "outputId": "4417ce8c-63f2-4e86-9ba7-f8d7dd06e747",
        "colab": {
          "base_uri": "https://localhost:8080/"
        }
      },
      "execution_count": 73,
      "outputs": [
        {
          "output_type": "execute_result",
          "data": {
            "text/plain": [
              "Timestamp('2011-03-11 23:00:00-0500', tz='America/New_York')"
            ]
          },
          "metadata": {},
          "execution_count": 73
        }
      ]
    },
    {
      "cell_type": "markdown",
      "source": [
        "### Time Periods\n",
        "\n",
        "Pandas can represent time spans like days, months, or years with the `pandas.Period` class. Creating a period requires a string or integer and a supported frequency alias."
      ],
      "metadata": {
        "id": "6HJZ4nwzlYqc"
      }
    },
    {
      "cell_type": "code",
      "source": [
        "p = pd.Period(\"2011\", freq=\"A-DEC\") # full time span from January 1 to December 31, 2011, inclusive\n",
        "p"
      ],
      "metadata": {
        "id": "m2Z_82QuEP--",
        "outputId": "11bf5db0-d338-4ac1-83b5-979bf84f3369",
        "colab": {
          "base_uri": "https://localhost:8080/"
        }
      },
      "execution_count": 77,
      "outputs": [
        {
          "output_type": "execute_result",
          "data": {
            "text/plain": [
              "Period('2011', 'A-DEC')"
            ]
          },
          "metadata": {},
          "execution_count": 77
        }
      ]
    },
    {
      "cell_type": "markdown",
      "source": [
        "Adding or subtracting integers from periods shifts their frequency."
      ],
      "metadata": {
        "id": "PwXJjah9Eq5n"
      }
    },
    {
      "cell_type": "code",
      "source": [
        "p + 5"
      ],
      "metadata": {
        "id": "7uzogU3_EzEj",
        "outputId": "a788a179-3721-4610-f0cb-74a892382166",
        "colab": {
          "base_uri": "https://localhost:8080/"
        }
      },
      "execution_count": 78,
      "outputs": [
        {
          "output_type": "execute_result",
          "data": {
            "text/plain": [
              "Period('2016', 'A-DEC')"
            ]
          },
          "metadata": {},
          "execution_count": 78
        }
      ]
    },
    {
      "cell_type": "markdown",
      "source": [
        "Ranges of periods can be constructed with the `period_range` function."
      ],
      "metadata": {
        "id": "knLy_1NXFGOX"
      }
    },
    {
      "cell_type": "code",
      "source": [
        "pd.period_range(\"2000-01-01\", \"2000-06-30\", freq=\"M\")"
      ],
      "metadata": {
        "id": "AKzDRYpPE_l1",
        "outputId": "23cc70e8-cee1-4ad4-cbac-9dd8fa6c8bbb",
        "colab": {
          "base_uri": "https://localhost:8080/"
        }
      },
      "execution_count": 80,
      "outputs": [
        {
          "output_type": "execute_result",
          "data": {
            "text/plain": [
              "PeriodIndex(['2000-01', '2000-02', '2000-03', '2000-04', '2000-05', '2000-06'], dtype='period[M]')"
            ]
          },
          "metadata": {},
          "execution_count": 80
        }
      ]
    },
    {
      "cell_type": "markdown",
      "source": [
        "Periods and PeriodIndex objects can be converted to another frequency with their `asfreq` method."
      ],
      "metadata": {
        "id": "RgR8dqbFFSum"
      }
    },
    {
      "cell_type": "code",
      "source": [
        " p.asfreq(\"M\", how=\"start\")"
      ],
      "metadata": {
        "id": "O1qQU8XcFaEp",
        "outputId": "bc54812f-9c5b-4608-8bdb-b6e07e9dcea6",
        "colab": {
          "base_uri": "https://localhost:8080/"
        }
      },
      "execution_count": 81,
      "outputs": [
        {
          "output_type": "execute_result",
          "data": {
            "text/plain": [
              "Period('2011-01', 'M')"
            ]
          },
          "metadata": {},
          "execution_count": 81
        }
      ]
    },
    {
      "cell_type": "markdown",
      "source": [
        "### Resampling & Conversion\n",
        "\n",
        "Resampling is the conversion of a time series from one frequency to another. `Downsampling` aggregated higher frequency data to a lower frequency, while `upsampling` converts lower frequency to higher frequency."
      ],
      "metadata": {
        "id": "c6oLBSLrGFTU"
      }
    },
    {
      "cell_type": "markdown",
      "source": [
        "### Moving Windows"
      ],
      "metadata": {
        "id": "GXCjRMyIllVp"
      }
    }
  ]
}