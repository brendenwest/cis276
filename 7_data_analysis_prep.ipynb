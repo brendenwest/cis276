{
  "nbformat": 4,
  "nbformat_minor": 0,
  "metadata": {
    "colab": {
      "provenance": [],
      "authorship_tag": "ABX9TyPh1gglT8oEBTJrOG1qvILe",
      "include_colab_link": true
    },
    "kernelspec": {
      "name": "python3",
      "display_name": "Python 3"
    },
    "language_info": {
      "name": "python"
    }
  },
  "cells": [
    {
      "cell_type": "markdown",
      "metadata": {
        "id": "view-in-github",
        "colab_type": "text"
      },
      "source": [
        "<a href=\"https://colab.research.google.com/github/brendenwest/cis276/blob/main/7_data_analysis_prep.ipynb\" target=\"_parent\"><img src=\"https://colab.research.google.com/assets/colab-badge.svg\" alt=\"Open In Colab\"/></a>"
      ]
    },
    {
      "cell_type": "markdown",
      "source": [
        "# Data Analysis Preparation\n",
        "\n",
        "### Reading\n",
        "- Murach's, Chapter 8\n",
        "\n",
        "### Learning Outcomes\n",
        "\n",
        "- How to create and plot long data\n",
        "- How to group & aggregate data\n",
        "- How to create & use pivot tables\n",
        "- How to work with bins\n"
      ],
      "metadata": {
        "id": "jyadV40W5xcM"
      }
    }
  ]
}