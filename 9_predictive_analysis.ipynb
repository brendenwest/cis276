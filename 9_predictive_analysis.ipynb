{
  "nbformat": 4,
  "nbformat_minor": 0,
  "metadata": {
    "colab": {
      "provenance": [],
      "authorship_tag": "ABX9TyN2ePAm92z/UCjH27VjjXes",
      "include_colab_link": true
    },
    "kernelspec": {
      "name": "python3",
      "display_name": "Python 3"
    },
    "language_info": {
      "name": "python"
    }
  },
  "cells": [
    {
      "cell_type": "markdown",
      "metadata": {
        "id": "view-in-github",
        "colab_type": "text"
      },
      "source": [
        "<a href=\"https://colab.research.google.com/github/brendenwest/cis276/blob/main/9_predictive_analysis.ipynb\" target=\"_parent\"><img src=\"https://colab.research.google.com/assets/colab-badge.svg\" alt=\"Open In Colab\"/></a>"
      ]
    },
    {
      "cell_type": "markdown",
      "source": [
        "## Intro to Predictive Analysis\n",
        "\n",
        "### Reading\n",
        "- Murach's, Chapter 10\n",
        "- https://wesmckinney.com/book/modeling.html\n",
        "\n",
        "## Learning Outcomes\n",
        "\n",
        "- What is predictive analysis?\n",
        "- Python libraries for predictive analysis\n",
        "- Analysing correlation between variables\n",
        "- Using Scikit-learn for linear regression\n"
      ],
      "metadata": {
        "id": "fE7Iuqh2H82B"
      }
    },
    {
      "cell_type": "code",
      "execution_count": null,
      "metadata": {
        "id": "H34og44nH7p1"
      },
      "outputs": [],
      "source": []
    }
  ]
}